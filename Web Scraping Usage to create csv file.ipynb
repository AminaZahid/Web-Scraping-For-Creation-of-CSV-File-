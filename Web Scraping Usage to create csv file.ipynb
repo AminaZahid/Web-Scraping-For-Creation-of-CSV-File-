{
 "cells": [
  {
   "cell_type": "code",
   "execution_count": 17,
   "id": "27644e67",
   "metadata": {},
   "outputs": [],
   "source": [
    "import pandas as pd \n",
    "import urllib.request\n",
    "from bs4 import BeautifulSoup\n",
    "import datetime"
   ]
  },
  {
   "cell_type": "code",
   "execution_count": 18,
   "id": "e344cb53",
   "metadata": {},
   "outputs": [],
   "source": [
    "city_name = 'toronto'\n",
    "month = [m for m in range(1,13)]\n",
    "year = [y for y in range(2010,2021)]\n",
    "dataset = []"
   ]
  },
  {
   "cell_type": "code",
   "execution_count": 20,
   "id": "7fb9b037",
   "metadata": {},
   "outputs": [],
   "source": [
    "for y in year:\n",
    "    for m in month:\n",
    "        url = 'https://www.timeanddate.com/sun/canada/'+city_name+'?month='+str(m)+'&year='+str(y)\n",
    "        with urllib.request.urlopen(url) as response:\n",
    "            html = response.read()\n",
    "            soup = BeautifulSoup(html)\n",
    "            day = soup.findAll(\"tr\", {\"title\": \"Click to expand for more details\"})\n",
    "            for d in day:\n",
    "                month_date = '{:02}'.format(m)\n",
    "                day_date = '{:02}'.format(int(d['data-day']))\n",
    "                final_date = str(y)+'-'+str(month_date)+'-'+str(day_date)\n",
    "                ele = d.findAll(\"td\")\n",
    "                sundown = ele[1].findAll(text=True, recursive=False)[0]\n",
    "                sundown_hour = '{:02}'.format(int(sundown.split(':')[0]));sundown_hour = int(sundown_hour)+12\n",
    "                sundown_min = '{:02}'.format(int(sundown.split(':')[1].split()[0]))\n",
    "                sundown_time = str(sundown_hour)+':'+str(sundown_min)\n",
    "                sunup = ele[0].findAll(text=True, recursive=False)[0]\n",
    "                sunup_hour = '{:02}'.format(int(sunup.split(':')[0]))\n",
    "                sunup_min = '{:02}'.format(int(sunup.split(':')[1].split()[0]))\n",
    "                sunup_time = str(sunup_hour)+':'+str(sunup_min)\n",
    "                dataset.append([city_name,final_date,sunup_time,sundown_time])\n",
    "df = pd.DataFrame(dataset,columns=['City','Date','Sunup','Sundown'])\n",
    "df.to_csv('Sunup_Sundown_Data.csv',index=False)"
   ]
  },
  {
   "cell_type": "code",
   "execution_count": null,
   "id": "40b94a6a",
   "metadata": {},
   "outputs": [],
   "source": []
  },
  {
   "cell_type": "code",
   "execution_count": null,
   "id": "02a56711",
   "metadata": {},
   "outputs": [],
   "source": []
  },
  {
   "cell_type": "code",
   "execution_count": null,
   "id": "7cc909be",
   "metadata": {},
   "outputs": [],
   "source": []
  }
 ],
 "metadata": {
  "kernelspec": {
   "display_name": "Python 3 (ipykernel)",
   "language": "python",
   "name": "python3"
  },
  "language_info": {
   "codemirror_mode": {
    "name": "ipython",
    "version": 3
   },
   "file_extension": ".py",
   "mimetype": "text/x-python",
   "name": "python",
   "nbconvert_exporter": "python",
   "pygments_lexer": "ipython3",
   "version": "3.7.15"
  }
 },
 "nbformat": 4,
 "nbformat_minor": 5
}
